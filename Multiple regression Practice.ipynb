{
 "cells": [
  {
   "cell_type": "code",
   "execution_count": 1,
   "id": "3ad68ec2",
   "metadata": {},
   "outputs": [],
   "source": [
    "import numpy as np\n",
    "import matplotlib.pyplot as plt\n",
    "import pandas as pd\n"
   ]
  },
  {
   "cell_type": "code",
   "execution_count": 36,
   "id": "ccdd4994",
   "metadata": {},
   "outputs": [],
   "source": [
    "df = pd.read_csv('50_Startups.csv').round()\n"
   ]
  },
  {
   "cell_type": "code",
   "execution_count": 38,
   "id": "09fdaa01",
   "metadata": {},
   "outputs": [
    {
     "data": {
      "text/html": [
       "<div>\n",
       "<style scoped>\n",
       "    .dataframe tbody tr th:only-of-type {\n",
       "        vertical-align: middle;\n",
       "    }\n",
       "\n",
       "    .dataframe tbody tr th {\n",
       "        vertical-align: top;\n",
       "    }\n",
       "\n",
       "    .dataframe thead th {\n",
       "        text-align: right;\n",
       "    }\n",
       "</style>\n",
       "<table border=\"1\" class=\"dataframe\">\n",
       "  <thead>\n",
       "    <tr style=\"text-align: right;\">\n",
       "      <th></th>\n",
       "      <th>R&amp;D Spend</th>\n",
       "      <th>Administration</th>\n",
       "      <th>Marketing Spend</th>\n",
       "      <th>State</th>\n",
       "      <th>Profit</th>\n",
       "    </tr>\n",
       "  </thead>\n",
       "  <tbody>\n",
       "    <tr>\n",
       "      <th>0</th>\n",
       "      <td>165349.0</td>\n",
       "      <td>136898.0</td>\n",
       "      <td>471784.0</td>\n",
       "      <td>New York</td>\n",
       "      <td>192262.0</td>\n",
       "    </tr>\n",
       "    <tr>\n",
       "      <th>1</th>\n",
       "      <td>162598.0</td>\n",
       "      <td>151378.0</td>\n",
       "      <td>443899.0</td>\n",
       "      <td>California</td>\n",
       "      <td>191792.0</td>\n",
       "    </tr>\n",
       "    <tr>\n",
       "      <th>2</th>\n",
       "      <td>153442.0</td>\n",
       "      <td>101146.0</td>\n",
       "      <td>407935.0</td>\n",
       "      <td>Florida</td>\n",
       "      <td>191050.0</td>\n",
       "    </tr>\n",
       "  </tbody>\n",
       "</table>\n",
       "</div>"
      ],
      "text/plain": [
       "   R&D Spend  Administration  Marketing Spend       State    Profit\n",
       "0   165349.0        136898.0         471784.0    New York  192262.0\n",
       "1   162598.0        151378.0         443899.0  California  191792.0\n",
       "2   153442.0        101146.0         407935.0     Florida  191050.0"
      ]
     },
     "execution_count": 38,
     "metadata": {},
     "output_type": "execute_result"
    }
   ],
   "source": [
    "df.head(3)"
   ]
  },
  {
   "cell_type": "markdown",
   "id": "1e1ce52a",
   "metadata": {},
   "source": [
    "#### Division into dependent and independent variables\n",
    "#### Here Profit is dependent variable and R&D, Admistration and Marketing Spend are independent variables."
   ]
  },
  {
   "cell_type": "markdown",
   "id": "32ae7a8a",
   "metadata": {},
   "source": [
    "#### Lets keep all columns except last one as X and last column as Y."
   ]
  },
  {
   "cell_type": "code",
   "execution_count": 45,
   "id": "e6365df9",
   "metadata": {},
   "outputs": [],
   "source": [
    "X = df.iloc[:, :-1]\n",
    "Y = df.iloc[:, 4]"
   ]
  },
  {
   "cell_type": "code",
   "execution_count": 44,
   "id": "3e27f7f3",
   "metadata": {},
   "outputs": [
    {
     "data": {
      "text/plain": [
       "0    192262.0\n",
       "1    191792.0\n",
       "2    191050.0\n",
       "3    182902.0\n",
       "4    166188.0\n",
       "5    156991.0\n",
       "6    156123.0\n",
       "7    155753.0\n",
       "8    152212.0\n",
       "9    149760.0\n",
       "Name: Profit, dtype: float64"
      ]
     },
     "execution_count": 44,
     "metadata": {},
     "output_type": "execute_result"
    }
   ],
   "source": [
    "Y.head(10)"
   ]
  },
  {
   "cell_type": "markdown",
   "id": "b6be188f",
   "metadata": {},
   "source": [
    "#### Convert the state column into categorical columns\n",
    "\n",
    "\n"
   ]
  },
  {
   "cell_type": "code",
   "execution_count": 48,
   "id": "64aaaf61",
   "metadata": {},
   "outputs": [
    {
     "data": {
      "text/html": [
       "<div>\n",
       "<style scoped>\n",
       "    .dataframe tbody tr th:only-of-type {\n",
       "        vertical-align: middle;\n",
       "    }\n",
       "\n",
       "    .dataframe tbody tr th {\n",
       "        vertical-align: top;\n",
       "    }\n",
       "\n",
       "    .dataframe thead th {\n",
       "        text-align: right;\n",
       "    }\n",
       "</style>\n",
       "<table border=\"1\" class=\"dataframe\">\n",
       "  <thead>\n",
       "    <tr style=\"text-align: right;\">\n",
       "      <th></th>\n",
       "      <th>Florida</th>\n",
       "      <th>New York</th>\n",
       "    </tr>\n",
       "  </thead>\n",
       "  <tbody>\n",
       "    <tr>\n",
       "      <th>0</th>\n",
       "      <td>0</td>\n",
       "      <td>1</td>\n",
       "    </tr>\n",
       "    <tr>\n",
       "      <th>1</th>\n",
       "      <td>0</td>\n",
       "      <td>0</td>\n",
       "    </tr>\n",
       "  </tbody>\n",
       "</table>\n",
       "</div>"
      ],
      "text/plain": [
       "   Florida  New York\n",
       "0        0         1\n",
       "1        0         0"
      ]
     },
     "execution_count": 48,
     "metadata": {},
     "output_type": "execute_result"
    }
   ],
   "source": [
    "states=pd.get_dummies(X['State'],drop_first=True)\n",
    "states.head(2)"
   ]
  },
  {
   "cell_type": "markdown",
   "id": "5f05d72c",
   "metadata": {},
   "source": [
    "#### Now drop the state coulmn.\n"
   ]
  },
  {
   "cell_type": "code",
   "execution_count": 49,
   "id": "35018d4f",
   "metadata": {},
   "outputs": [],
   "source": [
    "X=X.drop('State',axis=1)"
   ]
  },
  {
   "cell_type": "markdown",
   "id": "0fea7c55",
   "metadata": {},
   "source": [
    "#### concat the dummy variables\n"
   ]
  },
  {
   "cell_type": "code",
   "execution_count": 50,
   "id": "5caa86a0",
   "metadata": {},
   "outputs": [],
   "source": [
    "X=pd.concat([X,states],axis=1)"
   ]
  },
  {
   "cell_type": "code",
   "execution_count": 51,
   "id": "fe68f5e2",
   "metadata": {},
   "outputs": [
    {
     "data": {
      "text/html": [
       "<div>\n",
       "<style scoped>\n",
       "    .dataframe tbody tr th:only-of-type {\n",
       "        vertical-align: middle;\n",
       "    }\n",
       "\n",
       "    .dataframe tbody tr th {\n",
       "        vertical-align: top;\n",
       "    }\n",
       "\n",
       "    .dataframe thead th {\n",
       "        text-align: right;\n",
       "    }\n",
       "</style>\n",
       "<table border=\"1\" class=\"dataframe\">\n",
       "  <thead>\n",
       "    <tr style=\"text-align: right;\">\n",
       "      <th></th>\n",
       "      <th>R&amp;D Spend</th>\n",
       "      <th>Administration</th>\n",
       "      <th>Marketing Spend</th>\n",
       "      <th>Florida</th>\n",
       "      <th>New York</th>\n",
       "    </tr>\n",
       "  </thead>\n",
       "  <tbody>\n",
       "    <tr>\n",
       "      <th>0</th>\n",
       "      <td>165349.0</td>\n",
       "      <td>136898.0</td>\n",
       "      <td>471784.0</td>\n",
       "      <td>0</td>\n",
       "      <td>1</td>\n",
       "    </tr>\n",
       "    <tr>\n",
       "      <th>1</th>\n",
       "      <td>162598.0</td>\n",
       "      <td>151378.0</td>\n",
       "      <td>443899.0</td>\n",
       "      <td>0</td>\n",
       "      <td>0</td>\n",
       "    </tr>\n",
       "    <tr>\n",
       "      <th>2</th>\n",
       "      <td>153442.0</td>\n",
       "      <td>101146.0</td>\n",
       "      <td>407935.0</td>\n",
       "      <td>1</td>\n",
       "      <td>0</td>\n",
       "    </tr>\n",
       "  </tbody>\n",
       "</table>\n",
       "</div>"
      ],
      "text/plain": [
       "   R&D Spend  Administration  Marketing Spend  Florida  New York\n",
       "0   165349.0        136898.0         471784.0        0         1\n",
       "1   162598.0        151378.0         443899.0        0         0\n",
       "2   153442.0        101146.0         407935.0        1         0"
      ]
     },
     "execution_count": 51,
     "metadata": {},
     "output_type": "execute_result"
    }
   ],
   "source": [
    "X.head(3)"
   ]
  },
  {
   "cell_type": "code",
   "execution_count": null,
   "id": "8d4acbb2",
   "metadata": {},
   "outputs": [],
   "source": []
  }
 ],
 "metadata": {
  "kernelspec": {
   "display_name": "Python 3",
   "language": "python",
   "name": "python3"
  },
  "language_info": {
   "codemirror_mode": {
    "name": "ipython",
    "version": 3
   },
   "file_extension": ".py",
   "mimetype": "text/x-python",
   "name": "python",
   "nbconvert_exporter": "python",
   "pygments_lexer": "ipython3",
   "version": "3.8.11"
  }
 },
 "nbformat": 4,
 "nbformat_minor": 5
}
